{
  "nbformat": 4,
  "nbformat_minor": 0,
  "metadata": {
    "colab": {
      "name": "LSTM_v1.ipynb",
      "version": "0.3.2",
      "provenance": [],
      "collapsed_sections": []
    },
    "kernelspec": {
      "name": "python3",
      "display_name": "Python 3"
    }
  },
  "cells": [
    {
      "metadata": {
        "id": "Y2LYl4_UUJGA",
        "colab_type": "code",
        "colab": {}
      },
      "cell_type": "code",
      "source": [
        "import pandas as pd\n",
        "import numpy as np\n",
        "import pickle\n",
        "import matplotlib.pyplot as plt\n",
        "from scipy import stats\n",
        "import tensorflow as tf\n",
        "import seaborn as sns\n",
        "from pylab import rcParams\n",
        "from sklearn import metrics\n",
        "from sklearn.model_selection import train_test_split\n",
        "\n",
        "%matplotlib inline\n",
        "\n",
        "sns.set(style='whitegrid', palette='muted', font_scale=1.5)\n",
        "\n",
        "rcParams['figure.figsize'] = 14, 8\n",
        "\n",
        "RANDOM_SEED = 42"
      ],
      "execution_count": 0,
      "outputs": []
    },
    {
      "metadata": {
        "id": "sJ7xnhGTVWNX",
        "colab_type": "code",
        "outputId": "ad21188a-7768-45f1-9732-daf68a9a9049",
        "colab": {
          "resources": {
            "http://localhost:8080/nbextensions/google.colab/files.js": {
              "data": "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",
              "ok": true,
              "headers": [
                [
                  "content-type",
                  "application/javascript"
                ]
              ],
              "status": 200,
              "status_text": ""
            }
          },
          "base_uri": "https://localhost:8080/",
          "height": 92
        }
      },
      "cell_type": "code",
      "source": [
        "from google.colab import files\n",
        "upload = files.upload()"
      ],
      "execution_count": 0,
      "outputs": [
        {
          "output_type": "display_data",
          "data": {
            "text/html": [
              "\n",
              "     <input type=\"file\" id=\"files-9aed93b2-9390-4406-9874-9c853b6302d0\" name=\"files[]\" multiple disabled />\n",
              "     <output id=\"result-9aed93b2-9390-4406-9874-9c853b6302d0\">\n",
              "      Upload widget is only available when the cell has been executed in the\n",
              "      current browser session. Please rerun this cell to enable.\n",
              "      </output>\n",
              "      <script src=\"/nbextensions/google.colab/files.js\"></script> "
            ],
            "text/plain": [
              "<IPython.core.display.HTML object>"
            ]
          },
          "metadata": {
            "tags": []
          }
        },
        {
          "output_type": "stream",
          "text": [
            "Saving hw_sw lab_testdata_final.csv to hw_sw lab_testdata_final.csv\n"
          ],
          "name": "stdout"
        }
      ]
    },
    {
      "metadata": {
        "id": "GNj03WgyMxXJ",
        "colab_type": "code",
        "outputId": "d8365a8c-ba2a-409f-ab59-ff5315e8bce4",
        "colab": {
          "base_uri": "https://localhost:8080/",
          "height": 722
        }
      },
      "cell_type": "code",
      "source": [
        "#load data from file with data\n",
        "column_names = [\"g_x\", \"g_y\", \"g_z\", \"a_x\", \"a_y\", \"a_z\",\"target\"]\n",
        "df = pd.read_csv(\"hw_sw lab_testdata_final.csv\", names = column_names)\n",
        "target = df.target\n",
        "print(df.head(40))"
      ],
      "execution_count": 100,
      "outputs": [
        {
          "output_type": "stream",
          "text": [
            "      g_x    g_y    g_z    a_x    a_y    a_z  target\n",
            "0   -1093    206   -316  13936   6432  -7140       1\n",
            "1   -1165    351    -39  13660   6556  -7112       1\n",
            "2   -1533    117     40  13196   6740  -6600       1\n",
            "3   -2799  -1531   2984  19288  -1284  -5188       1\n",
            "4    8267   -727 -10765  17252 -21412 -17264       1\n",
            "5    9508   9230 -13284   6756  12048 -13620       1\n",
            "6     708   4749  -2169  10924  13404  -8192       1\n",
            "7    3479   6464  -1774  11304  13100  -6580       1\n",
            "8     563    582   3781  13372   7468  -5148       1\n",
            "9   -1452    330   -396  15380   7604  -4680       1\n",
            "10   -739    147   -144  11652   7640  -8576       0\n",
            "11   -696   -149   -553  12076   7868  -9512       0\n",
            "12  -1146    427   -180  11968   8008  -9004       0\n",
            "13  -1280    316     32  11752   7604  -8220       0\n",
            "14   -840      5   -934  11664   8184  -9312       0\n",
            "15  -1005    133   -205  12120   8064  -9500       0\n",
            "16   -926    -73   -269  11852   7856  -9492       0\n",
            "17   -938    268   -136  12024   7888  -8964       0\n",
            "18   -922    590    110  11740   7332  -8916       0\n",
            "19   -719     -9   -525  11888   8096  -9296       0\n",
            "20   -855    281   -407  11524   7728  -9180       1\n",
            "21  -1145    118   -424  11564   8016  -9004       1\n",
            "22  -1299     65   -371  11624   8056  -9040       1\n",
            "23  -1786    697   3217  11960   8484  -7120       1\n",
            "24  -5456 -10389   2445  22836 -10276 -13412       1\n",
            "25  15868   7685 -17868  15796  -8020 -22336       1\n",
            "26   8060  10164 -21500  -2648  17844 -12128       1\n",
            "27  -2545   7461  -1159   2584  13124  -5256       1\n",
            "28    456   3342     95   9840   7972  -5844       1\n",
            "29    124  -2668  -1168  14572   8056 -10940       1\n",
            "30   -219    212   -273  12356   7560  -7744       0\n",
            "31   -977    407   -293  12820   8272  -8552       0\n",
            "32  -1284    441   -402  12380   7472  -7524       0\n",
            "33   -847    282   -533  12148   8680  -8484       0\n",
            "34  -1156    166   -145  12536   7068  -7944       0\n",
            "35  -1019    574   -388  12340   8136  -7764       0\n",
            "36  -1016    368   -188  12040   7624  -7716       0\n",
            "37   -962    156   -403  12632   8168  -8096       0\n",
            "38   -744    169   -510  12708   8232  -8608       0\n",
            "39  -1018    337   -201  12500   8036  -7700       0\n"
          ],
          "name": "stdout"
        }
      ]
    },
    {
      "metadata": {
        "id": "D1WqjeF6X0Vn",
        "colab_type": "code",
        "outputId": "f13aff32-bb08-4720-8d0a-9aa4339d517a",
        "colab": {
          "base_uri": "https://localhost:8080/",
          "height": 34
        }
      },
      "cell_type": "code",
      "source": [
        "#time steps is based on how many time points you want to put into one entry \n",
        "N_TIME_STEPS = 10\n",
        "#number of features, should be 6 since we have acceleration and gyroscope for xyz \n",
        "N_FEATURES = 6\n",
        "step = 1\n",
        "segments = []\n",
        "labels = []\n",
        "for i in range(0, len(df) - N_TIME_STEPS, step):\n",
        "    a_x = df['a_x'].values[i: i + N_TIME_STEPS]\n",
        "    a_y = df['a_y'].values[i: i + N_TIME_STEPS]\n",
        "    a_z = df['a_z'].values[i: i + N_TIME_STEPS]\n",
        "    g_x = df['g_x'].values[i: i + N_TIME_STEPS]\n",
        "    g_y = df['g_y'].values[i: i + N_TIME_STEPS]\n",
        "    g_z = df['g_z'].values[i: i + N_TIME_STEPS]\n",
        "    label = stats.mode(df['target'][i: i + N_TIME_STEPS])[0][0]\n",
        "    segments.append([g_x, g_y, g_z,a_x, a_y, a_z,])\n",
        "    labels.append(label)\n",
        "\n",
        "print(np.array(segments).shape)\n",
        "\n",
        "#get the desired shape for the neural network\n",
        "reshaped_segments = np.asarray(segments, dtype= np.float32).reshape(-1, N_TIME_STEPS, N_FEATURES)\n",
        "#labels width is however many gestures we have\n",
        "labels = np.asarray(pd.get_dummies(labels), dtype = np.float32)"
      ],
      "execution_count": 101,
      "outputs": [
        {
          "output_type": "stream",
          "text": [
            "(1530, 6, 10)\n"
          ],
          "name": "stdout"
        }
      ]
    },
    {
      "metadata": {
        "id": "4wZXUJNwdgNq",
        "colab_type": "code",
        "outputId": "97f42a37-549f-441d-c689-2312967808eb",
        "colab": {
          "base_uri": "https://localhost:8080/",
          "height": 206
        }
      },
      "cell_type": "code",
      "source": [
        "print(reshaped_segments[0])\n",
        "print(labels[0])"
      ],
      "execution_count": 102,
      "outputs": [
        {
          "output_type": "stream",
          "text": [
            "[[ -1093.  -1165.  -1533.  -2799.   8267.   9508.]\n",
            " [   708.   3479.    563.  -1452.    206.    351.]\n",
            " [   117.  -1531.   -727.   9230.   4749.   6464.]\n",
            " [   582.    330.   -316.    -39.     40.   2984.]\n",
            " [-10765. -13284.  -2169.  -1774.   3781.   -396.]\n",
            " [ 13936.  13660.  13196.  19288.  17252.   6756.]\n",
            " [ 10924.  11304.  13372.  15380.   6432.   6556.]\n",
            " [  6740.  -1284. -21412.  12048.  13404.  13100.]\n",
            " [  7468.   7604.  -7140.  -7112.  -6600.  -5188.]\n",
            " [-17264. -13620.  -8192.  -6580.  -5148.  -4680.]]\n",
            "[0. 1. 0.]\n"
          ],
          "name": "stdout"
        }
      ]
    },
    {
      "metadata": {
        "id": "ZKBeJPz8eqwA",
        "colab_type": "code",
        "outputId": "c5f933d3-b4b0-44be-81c2-5461c0336b80",
        "colab": {
          "base_uri": "https://localhost:8080/",
          "height": 51
        }
      },
      "cell_type": "code",
      "source": [
        "X_train, X_test, y_train, y_test = train_test_split(\n",
        "        reshaped_segments, labels, test_size=0.15, random_state=20)\n",
        "print(X_train.shape)\n",
        "print(X_test.shape)"
      ],
      "execution_count": 103,
      "outputs": [
        {
          "output_type": "stream",
          "text": [
            "(1300, 10, 6)\n",
            "(230, 10, 6)\n"
          ],
          "name": "stdout"
        }
      ]
    },
    {
      "metadata": {
        "id": "rVtXUwKbh9_x",
        "colab_type": "code",
        "colab": {}
      },
      "cell_type": "code",
      "source": [
        "N_CLASSES = 3\n",
        "N_HIDDEN_UNITS = 64\n",
        "def create_LSTM_model(inputs):\n",
        "    W = {\n",
        "        'hidden': tf.Variable(tf.random_normal([N_FEATURES, N_HIDDEN_UNITS])),\n",
        "        'output': tf.Variable(tf.random_normal([N_HIDDEN_UNITS, N_CLASSES]))\n",
        "    }\n",
        "    biases = {\n",
        "        'hidden': tf.Variable(tf.random_normal([N_HIDDEN_UNITS], mean=1.0)),\n",
        "        'output': tf.Variable(tf.random_normal([N_CLASSES]))\n",
        "    }\n",
        "    \n",
        "    X = tf.transpose(inputs, [1, 0, 2])\n",
        "#     X = tf.transpose(inputs, [1, 0, 3])\n",
        "    X = tf.reshape(X, [-1, N_FEATURES])\n",
        "    hidden = tf.nn.relu(tf.matmul(X, W['hidden']) + biases['hidden'])\n",
        "    hidden = tf.split(hidden, N_TIME_STEPS, 0)\n",
        "\n",
        "    # Stack 2 LSTM layers\n",
        "    lstm_layers = [tf.contrib.rnn.BasicLSTMCell(N_HIDDEN_UNITS, forget_bias=1.0) for _ in range(2)]\n",
        "    lstm_layers = tf.contrib.rnn.MultiRNNCell(lstm_layers)\n",
        "\n",
        "    outputs, _ = tf.contrib.rnn.static_rnn(lstm_layers, hidden, dtype=tf.float32)\n",
        "\n",
        "    # Get output for the last time step\n",
        "    lstm_last_output = outputs[-1]\n",
        "\n",
        "    return tf.matmul(lstm_last_output, W['output']) + biases['output']"
      ],
      "execution_count": 0,
      "outputs": []
    },
    {
      "metadata": {
        "id": "rKg2e2GKe1_h",
        "colab_type": "code",
        "outputId": "cdf4cdd9-7959-4703-8647-0aad80e02b24",
        "colab": {
          "base_uri": "https://localhost:8080/",
          "height": 34
        }
      },
      "cell_type": "code",
      "source": [
        "print(X)"
      ],
      "execution_count": 0,
      "outputs": [
        {
          "output_type": "stream",
          "text": [
            "Tensor(\"input:0\", shape=(?, 10, 6), dtype=float32)\n"
          ],
          "name": "stdout"
        }
      ]
    },
    {
      "metadata": {
        "id": "0xZXWSC2iIP9",
        "colab_type": "code",
        "colab": {}
      },
      "cell_type": "code",
      "source": [
        "tf.reset_default_graph()\n",
        "\n",
        "X = tf.placeholder(tf.float32, [None, N_TIME_STEPS, N_FEATURES], name=\"input\")\n",
        "Y = tf.placeholder(tf.float32, [None, N_CLASSES])"
      ],
      "execution_count": 0,
      "outputs": []
    },
    {
      "metadata": {
        "id": "8j3VkRLF9cSm",
        "colab_type": "code",
        "outputId": "595b8ac7-bb79-47a1-c37e-22f7f5283f11",
        "colab": {
          "base_uri": "https://localhost:8080/",
          "height": 69
        }
      },
      "cell_type": "code",
      "source": [
        "print(X)\n",
        "print(\"Y\")\n",
        "print(Y)"
      ],
      "execution_count": 0,
      "outputs": [
        {
          "output_type": "stream",
          "text": [
            "Tensor(\"input:0\", shape=(?, 10, 6), dtype=float32)\n",
            "Y\n",
            "Tensor(\"Placeholder:0\", shape=(?, 2), dtype=float32)\n"
          ],
          "name": "stdout"
        }
      ]
    },
    {
      "metadata": {
        "id": "HlaKb_OyidqQ",
        "colab_type": "code",
        "colab": {}
      },
      "cell_type": "code",
      "source": [
        "pred_Y = create_LSTM_model(X)\n",
        "\n",
        "pred_softmax = tf.nn.softmax(pred_Y, name=\"y_\")"
      ],
      "execution_count": 0,
      "outputs": []
    },
    {
      "metadata": {
        "id": "qIa9U87jqVyT",
        "colab_type": "code",
        "outputId": "d5b60dd2-451e-4aa5-f053-f6488e8571e4",
        "colab": {
          "base_uri": "https://localhost:8080/",
          "height": 51
        }
      },
      "cell_type": "code",
      "source": [
        "print(pred_Y)\n",
        "print(pred_softmax)"
      ],
      "execution_count": 107,
      "outputs": [
        {
          "output_type": "stream",
          "text": [
            "Tensor(\"add_1:0\", shape=(?, 3), dtype=float32)\n",
            "Tensor(\"y_:0\", shape=(?, 3), dtype=float32)\n"
          ],
          "name": "stdout"
        }
      ]
    },
    {
      "metadata": {
        "id": "hQV11hMpkvNs",
        "colab_type": "code",
        "colab": {}
      },
      "cell_type": "code",
      "source": [
        "L2_LOSS = 0.0015\n",
        "\n",
        "l2 = L2_LOSS * \\\n",
        "    sum(tf.nn.l2_loss(tf_var) for tf_var in tf.trainable_variables())\n",
        "\n",
        "loss = tf.reduce_mean(tf.nn.softmax_cross_entropy_with_logits(logits = pred_Y, labels = Y)) + l2"
      ],
      "execution_count": 0,
      "outputs": []
    },
    {
      "metadata": {
        "id": "daHlRORbpn8L",
        "colab_type": "code",
        "colab": {}
      },
      "cell_type": "code",
      "source": [
        "#Change learning rate if you want\n",
        "# LEARNING_RATE = 0.0025\n",
        "LEARNING_RATE = 0.005\n",
        "optimizer = tf.train.AdamOptimizer(learning_rate=LEARNING_RATE).minimize(loss)\n",
        "\n",
        "correct_pred = tf.equal(tf.argmax(pred_softmax, 1), tf.argmax(Y, 1))\n",
        "accuracy = tf.reduce_mean(tf.cast(correct_pred, dtype=tf.float32))"
      ],
      "execution_count": 0,
      "outputs": []
    },
    {
      "metadata": {
        "id": "ZcVk1-y3qPEl",
        "colab_type": "code",
        "outputId": "dbf637da-17fa-47ae-9a8e-50afe1240cc5",
        "colab": {
          "base_uri": "https://localhost:8080/",
          "height": 774
        }
      },
      "cell_type": "code",
      "source": [
        "#Change epochs to as much or few as you want\n",
        "#Batch size whatever you want\n",
        "N_EPOCHS = 400\n",
        "BATCH_SIZE =64\n",
        "saver = tf.train.Saver()\n",
        "\n",
        "history = dict(train_loss=[], \n",
        "                     train_acc=[], \n",
        "                     test_loss=[], \n",
        "                     test_acc=[])\n",
        "\n",
        "# sess=tf.InteractiveSession()\n",
        "sess=tf.Session()\n",
        "sess.run(tf.global_variables_initializer())\n",
        "\n",
        "train_count = len(X_train)\n",
        "\n",
        "for i in range(1, N_EPOCHS + 1):\n",
        "    for start, end in zip(range(0, train_count, BATCH_SIZE),\n",
        "                          range(BATCH_SIZE, train_count + 1,BATCH_SIZE)):\n",
        "        sess.run(optimizer, feed_dict={X: X_train[start:end],\n",
        "                                       Y: y_train[start:end]})\n",
        "\n",
        "    _, acc_train, loss_train = sess.run([pred_softmax, accuracy, loss], feed_dict={\n",
        "                                            X: X_train, Y: y_train})\n",
        "\n",
        "    _, acc_test, loss_test = sess.run([pred_softmax, accuracy, loss], feed_dict={\n",
        "                                            X: X_test, Y: y_test})\n",
        "\n",
        "    history['train_loss'].append(loss_train)\n",
        "    history['train_acc'].append(acc_train)\n",
        "    history['test_loss'].append(loss_test)\n",
        "    history['test_acc'].append(acc_test)\n",
        "\n",
        "    if i != 1 and i % 10 != 0:\n",
        "        continue\n",
        "\n",
        "    print(f'epoch: {i} test accuracy: {acc_test} loss: {loss_test}')\n",
        "    #saves the final version of the model\n",
        "    #which creates 4 files!!!\n",
        "    if(i==N_EPOCHS):\n",
        "      saver.save(sess, 'LSTM_v2', global_step=i)\n",
        "predictions, acc_final, loss_final = sess.run([pred_softmax, accuracy, loss], feed_dict={X: X_test, Y: y_test})\n",
        "\n",
        "print()\n",
        "print(f'final results: accuracy: {acc_final} loss: {loss_final}')\n",
        "\n",
        "\n",
        "print()"
      ],
      "execution_count": 111,
      "outputs": [
        {
          "output_type": "stream",
          "text": [
            "epoch: 1 test accuracy: 0.7434782385826111 loss: 1.3070101737976074\n",
            "epoch: 10 test accuracy: 0.708695650100708 loss: 1.104088544845581\n",
            "epoch: 20 test accuracy: 0.804347813129425 loss: 0.9291523694992065\n",
            "epoch: 30 test accuracy: 0.8608695864677429 loss: 0.8510252237319946\n",
            "epoch: 40 test accuracy: 0.8304347991943359 loss: 0.9740810394287109\n",
            "epoch: 50 test accuracy: 0.8391304612159729 loss: 0.941743016242981\n",
            "epoch: 60 test accuracy: 0.8260869383811951 loss: 0.9465214014053345\n",
            "epoch: 70 test accuracy: 0.821739137172699 loss: 0.9955428242683411\n",
            "epoch: 80 test accuracy: 0.8173912763595581 loss: 0.9092360734939575\n",
            "epoch: 90 test accuracy: 0.856521725654602 loss: 0.8451579809188843\n",
            "epoch: 100 test accuracy: 0.8782608509063721 loss: 0.7906525135040283\n",
            "epoch: 110 test accuracy: 0.873913049697876 loss: 0.8868926763534546\n",
            "epoch: 120 test accuracy: 0.873913049697876 loss: 0.844433605670929\n",
            "epoch: 130 test accuracy: 0.8608695864677429 loss: 0.871934175491333\n",
            "epoch: 140 test accuracy: 0.865217387676239 loss: 0.8808516263961792\n",
            "epoch: 150 test accuracy: 0.8695651888847351 loss: 0.8742009401321411\n",
            "epoch: 160 test accuracy: 0.8478260636329651 loss: 0.9026680588722229\n",
            "epoch: 170 test accuracy: 0.8478260636329651 loss: 0.9976660013198853\n",
            "epoch: 180 test accuracy: 0.8826087117195129 loss: 0.9168373346328735\n",
            "epoch: 190 test accuracy: 0.8782608509063721 loss: 0.8438376188278198\n",
            "epoch: 200 test accuracy: 0.8999999761581421 loss: 0.8241826295852661\n",
            "epoch: 210 test accuracy: 0.9130434989929199 loss: 0.8392602205276489\n",
            "epoch: 220 test accuracy: 0.886956512928009 loss: 0.8874396085739136\n",
            "epoch: 230 test accuracy: 0.895652174949646 loss: 0.8623931407928467\n",
            "epoch: 240 test accuracy: 0.908695638179779 loss: 0.7772567272186279\n",
            "epoch: 250 test accuracy: 0.895652174949646 loss: 0.7646449208259583\n",
            "epoch: 260 test accuracy: 0.852173924446106 loss: 0.8294246196746826\n",
            "epoch: 270 test accuracy: 0.904347836971283 loss: 0.7959988713264465\n",
            "epoch: 280 test accuracy: 0.908695638179779 loss: 0.775795578956604\n",
            "epoch: 290 test accuracy: 0.873913049697876 loss: 0.8345108032226562\n",
            "epoch: 300 test accuracy: 0.886956512928009 loss: 0.8600637912750244\n",
            "epoch: 310 test accuracy: 0.904347836971283 loss: 0.793343186378479\n",
            "epoch: 320 test accuracy: 0.895652174949646 loss: 0.7770611047744751\n",
            "epoch: 330 test accuracy: 0.8826087117195129 loss: 0.8260629177093506\n",
            "epoch: 340 test accuracy: 0.8826087117195129 loss: 0.7961763143539429\n",
            "epoch: 350 test accuracy: 0.8782608509063721 loss: 0.845792293548584\n",
            "epoch: 360 test accuracy: 0.843478262424469 loss: 0.9018934369087219\n",
            "epoch: 370 test accuracy: 0.8608695864677429 loss: 0.8507050275802612\n",
            "epoch: 380 test accuracy: 0.8695651888847351 loss: 0.8790183663368225\n",
            "epoch: 390 test accuracy: 0.8913043737411499 loss: 0.8455036878585815\n",
            "epoch: 400 test accuracy: 0.904347836971283 loss: 0.7533988952636719\n",
            "\n",
            "final results: accuracy: 0.904347836971283 loss: 0.7533988952636719\n",
            "\n"
          ],
          "name": "stdout"
        }
      ]
    },
    {
      "metadata": {
        "id": "VDR1UzB9KRip",
        "colab_type": "code",
        "outputId": "e4982841-1690-4439-df2d-23adfd24a764",
        "colab": {
          "base_uri": "https://localhost:8080/",
          "height": 69
        }
      },
      "cell_type": "code",
      "source": [
        "print(sess)\n",
        "print(predictions.shape)\n",
        "print(y_test.shape)"
      ],
      "execution_count": 92,
      "outputs": [
        {
          "output_type": "stream",
          "text": [
            "<tensorflow.python.client.session.Session object at 0x7fcd706aa0b8>\n",
            "(230, 3)\n",
            "(230, 3)\n"
          ],
          "name": "stdout"
        }
      ]
    },
    {
      "metadata": {
        "id": "OzlCwtW7A45C",
        "colab_type": "code",
        "outputId": "7f2cb4d2-89c2-4896-f94e-f3f2787a43dc",
        "colab": {
          "base_uri": "https://localhost:8080/",
          "height": 1049
        }
      },
      "cell_type": "code",
      "source": [
        "print(predictions[200:230])\n",
        "print(y_test[200:230])"
      ],
      "execution_count": 93,
      "outputs": [
        {
          "output_type": "stream",
          "text": [
            "[[9.50715959e-01 4.80376743e-02 1.24637235e-03]\n",
            " [6.20382011e-01 1.06834315e-01 2.72783637e-01]\n",
            " [8.03280592e-01 1.94324329e-01 2.39502382e-03]\n",
            " [3.60560685e-01 5.98982751e-01 4.04565223e-02]\n",
            " [3.38516489e-04 9.87386763e-01 1.22746630e-02]\n",
            " [9.17720318e-01 4.00809608e-02 4.21987586e-02]\n",
            " [9.99772131e-01 2.22524832e-04 5.34491892e-06]\n",
            " [9.64710772e-01 7.91223068e-03 2.73769125e-02]\n",
            " [1.36011928e-01 8.63898098e-01 8.98873986e-05]\n",
            " [9.97836292e-01 2.09985184e-03 6.38911151e-05]\n",
            " [9.64940071e-01 4.76994365e-03 3.02899573e-02]\n",
            " [9.98179078e-01 1.81207946e-03 8.81748383e-06]\n",
            " [9.99932051e-01 4.06106956e-05 2.73387832e-05]\n",
            " [8.57815333e-03 3.56944976e-04 9.91064906e-01]\n",
            " [7.65268385e-01 3.07824723e-02 2.03949153e-01]\n",
            " [9.99461710e-01 4.74777276e-04 6.35198303e-05]\n",
            " [5.72346985e-01 4.94860895e-02 3.78166884e-01]\n",
            " [7.01653166e-03 5.39544582e-01 4.53438908e-01]\n",
            " [4.71625537e-01 7.96000299e-04 5.27578413e-01]\n",
            " [9.99256313e-01 7.18457275e-04 2.53019498e-05]\n",
            " [6.36459095e-04 9.98344898e-01 1.01861369e-03]\n",
            " [9.94210839e-01 5.58423903e-03 2.04956857e-04]\n",
            " [9.99292135e-01 4.55380614e-05 6.62368315e-04]\n",
            " [9.99377966e-01 4.62687312e-04 1.59302494e-04]\n",
            " [8.74826277e-04 9.91483986e-01 7.64118088e-03]\n",
            " [9.99017596e-01 9.75384028e-04 6.98993745e-06]\n",
            " [2.14416385e-01 2.74960767e-04 7.85308719e-01]\n",
            " [9.99846220e-01 1.49370841e-04 4.43142608e-06]\n",
            " [9.06401694e-01 3.27650085e-02 6.08332716e-02]\n",
            " [1.80743098e-01 1.42269593e-04 8.19114625e-01]]\n",
            "[[1. 0. 0.]\n",
            " [1. 0. 0.]\n",
            " [0. 1. 0.]\n",
            " [0. 1. 0.]\n",
            " [0. 1. 0.]\n",
            " [1. 0. 0.]\n",
            " [1. 0. 0.]\n",
            " [1. 0. 0.]\n",
            " [0. 1. 0.]\n",
            " [1. 0. 0.]\n",
            " [1. 0. 0.]\n",
            " [1. 0. 0.]\n",
            " [1. 0. 0.]\n",
            " [0. 0. 1.]\n",
            " [1. 0. 0.]\n",
            " [1. 0. 0.]\n",
            " [1. 0. 0.]\n",
            " [0. 0. 1.]\n",
            " [1. 0. 0.]\n",
            " [1. 0. 0.]\n",
            " [0. 1. 0.]\n",
            " [1. 0. 0.]\n",
            " [1. 0. 0.]\n",
            " [1. 0. 0.]\n",
            " [0. 1. 0.]\n",
            " [1. 0. 0.]\n",
            " [1. 0. 0.]\n",
            " [1. 0. 0.]\n",
            " [1. 0. 0.]\n",
            " [0. 0. 1.]]\n"
          ],
          "name": "stdout"
        }
      ]
    },
    {
      "metadata": {
        "id": "N-wLqVxU-6aX",
        "colab_type": "code",
        "colab": {}
      },
      "cell_type": "code",
      "source": [
        "sess.close()"
      ],
      "execution_count": 0,
      "outputs": []
    },
    {
      "metadata": {
        "id": "IDpZS7OwSMba",
        "colab_type": "code",
        "colab": {
          "base_uri": "https://localhost:8080/",
          "height": 34
        },
        "outputId": "e587f28e-829c-4a02-cef5-d3b3801dd08f"
      },
      "cell_type": "code",
      "source": [
        "#this is reloading the model in and running it.\n",
        "with tf.Session() as sess2:\n",
        "  new_saver = tf.train.import_meta_graph('LSTM_v2-400.meta')\n",
        "  new_saver.restore(sess2, tf.train.latest_checkpoint('./'))\n",
        "  predictions1, acc_final1, loss_final1 = sess2.run([pred_softmax, accuracy, loss], feed_dict={X: X_test, Y: y_test})\n",
        "  predictions2 = sess2.run(X_test)"
      ],
      "execution_count": 115,
      "outputs": [
        {
          "output_type": "stream",
          "text": [
            "INFO:tensorflow:Restoring parameters from ./LSTM_v2-400\n"
          ],
          "name": "stdout"
        }
      ]
    },
    {
      "metadata": {
        "id": "QPE5DoxowM7v",
        "colab_type": "code",
        "colab": {
          "base_uri": "https://localhost:8080/",
          "height": 3990
        },
        "outputId": "05f3af25-2e19-4d84-8322-a2cc5321c347"
      },
      "cell_type": "code",
      "source": [
        "print(f'final results: accuracy: {acc_final1} loss: {loss_final1}')\n",
        "print(predictions)"
      ],
      "execution_count": 118,
      "outputs": [
        {
          "output_type": "stream",
          "text": [
            "final results: accuracy: 0.904347836971283 loss: 0.7533988952636719\n",
            "[[9.90304410e-01 9.64471046e-03 5.09339297e-05]\n",
            " [9.99753535e-01 1.14026458e-04 1.32412722e-04]\n",
            " [4.73897606e-02 2.58629739e-01 6.93980515e-01]\n",
            " [9.97711182e-01 2.17203586e-03 1.16736832e-04]\n",
            " [9.98575926e-01 1.86912017e-04 1.23719755e-03]\n",
            " [9.56698477e-01 4.84480086e-04 4.28169817e-02]\n",
            " [9.98867154e-01 1.49726649e-04 9.83143807e-04]\n",
            " [1.70926820e-03 7.32694520e-04 9.97557998e-01]\n",
            " [9.86371100e-01 1.22589087e-02 1.37000019e-03]\n",
            " [2.15044175e-03 9.71044958e-01 2.68046483e-02]\n",
            " [9.99420643e-01 2.45088508e-04 3.34331504e-04]\n",
            " [9.97616053e-01 2.13965192e-04 2.17000907e-03]\n",
            " [1.44476420e-03 8.00405264e-01 1.98150009e-01]\n",
            " [6.35574199e-03 9.93446171e-01 1.98052148e-04]\n",
            " [9.93826449e-01 6.15865644e-03 1.49406214e-05]\n",
            " [9.98549521e-01 1.38137187e-03 6.90310917e-05]\n",
            " [1.74109577e-04 9.94403243e-01 5.42253256e-03]\n",
            " [8.51374399e-03 1.74116431e-04 9.91312087e-01]\n",
            " [1.81512877e-01 3.23859113e-03 8.15248489e-01]\n",
            " [9.69580829e-01 3.10185656e-04 3.01088933e-02]\n",
            " [9.98120964e-01 7.33103487e-04 1.14591944e-03]\n",
            " [9.98843074e-01 7.45345373e-04 4.11562505e-04]\n",
            " [8.55653167e-01 4.82005179e-02 9.61463451e-02]\n",
            " [9.87698138e-01 1.01921232e-02 2.10971595e-03]\n",
            " [4.81006593e-01 4.79122251e-01 3.98710854e-02]\n",
            " [9.76225268e-03 9.37154796e-03 9.80866194e-01]\n",
            " [9.91254568e-01 8.73423647e-03 1.12063253e-05]\n",
            " [6.70527457e-04 9.98590171e-01 7.39204872e-04]\n",
            " [1.22004990e-02 9.75925446e-01 1.18740778e-02]\n",
            " [9.86236930e-01 1.37369931e-02 2.61352652e-05]\n",
            " [2.23664679e-02 9.76463079e-01 1.17041601e-03]\n",
            " [9.99950290e-01 2.38349458e-05 2.58276705e-05]\n",
            " [9.98226225e-01 8.28780408e-04 9.44958709e-04]\n",
            " [9.89525557e-01 4.82233881e-04 9.99215245e-03]\n",
            " [7.89411426e-01 4.88122851e-02 1.61776304e-01]\n",
            " [6.28398592e-03 9.40964162e-01 5.27518652e-02]\n",
            " [2.47763912e-03 1.91005191e-03 9.95612264e-01]\n",
            " [9.97785330e-01 9.24904016e-04 1.28978270e-03]\n",
            " [9.96767640e-01 3.22291674e-03 9.55802716e-06]\n",
            " [9.18464303e-01 4.63944016e-04 8.10717791e-02]\n",
            " [9.09462631e-01 7.59988744e-03 8.29374641e-02]\n",
            " [9.99747574e-01 6.13153243e-05 1.91134168e-04]\n",
            " [8.05996120e-01 1.78511202e-01 1.54927187e-02]\n",
            " [2.94782490e-01 5.32209814e-01 1.73007682e-01]\n",
            " [9.98637736e-01 3.79859761e-04 9.82389087e-04]\n",
            " [9.89318073e-01 1.06248418e-02 5.70409575e-05]\n",
            " [1.70400683e-02 9.60373700e-01 2.25862935e-02]\n",
            " [6.60941564e-03 9.93082106e-01 3.08462273e-04]\n",
            " [2.32029691e-01 7.46987224e-01 2.09831670e-02]\n",
            " [9.98633206e-01 1.32380941e-04 1.23441860e-03]\n",
            " [9.99628782e-01 1.47379658e-04 2.23743016e-04]\n",
            " [9.40889537e-01 1.32395774e-02 4.58709076e-02]\n",
            " [9.80831325e-01 1.83416437e-02 8.26972479e-04]\n",
            " [9.67323244e-01 3.26456986e-02 3.10605719e-05]\n",
            " [9.25819506e-04 9.36276972e-01 6.27972335e-02]\n",
            " [9.98296797e-01 9.38364537e-04 7.64841272e-04]\n",
            " [9.64268684e-01 3.56965438e-02 3.48741050e-05]\n",
            " [9.98206258e-01 1.65737502e-03 1.36318442e-04]\n",
            " [7.40736723e-04 4.80618980e-03 9.94453013e-01]\n",
            " [9.56989229e-01 4.27700207e-02 2.40758483e-04]\n",
            " [9.99749124e-01 9.72651687e-05 1.53620538e-04]\n",
            " [3.63333374e-02 1.97191343e-01 7.66475320e-01]\n",
            " [5.64373704e-03 9.93872404e-01 4.83879994e-04]\n",
            " [6.61725597e-03 9.43797815e-04 9.92438912e-01]\n",
            " [9.89150882e-01 1.04297800e-02 4.19295800e-04]\n",
            " [4.17300675e-04 1.07179600e-04 9.99475539e-01]\n",
            " [3.66071216e-03 2.41923219e-04 9.96097386e-01]\n",
            " [9.98317242e-01 1.18493580e-03 4.97814617e-04]\n",
            " [9.96629059e-01 3.30059743e-03 7.02827529e-05]\n",
            " [8.69467447e-04 9.98308301e-01 8.22174887e-04]\n",
            " [9.91075873e-01 4.86033008e-04 8.43811408e-03]\n",
            " [8.80972624e-01 1.18426710e-01 6.00744446e-04]\n",
            " [9.98528481e-01 3.82692553e-04 1.08881190e-03]\n",
            " [9.88815248e-01 1.09840492e-02 2.00745490e-04]\n",
            " [3.71595682e-03 9.89210963e-01 7.07299728e-03]\n",
            " [9.99751627e-01 5.18204433e-05 1.96576555e-04]\n",
            " [8.89769375e-01 1.08458959e-01 1.77170511e-03]\n",
            " [4.52687852e-02 7.46804833e-01 2.07926333e-01]\n",
            " [1.93453103e-03 1.18324277e-03 9.96882200e-01]\n",
            " [9.93153691e-01 6.82480680e-03 2.15322470e-05]\n",
            " [9.96452928e-01 3.09142005e-03 4.55608679e-04]\n",
            " [9.81219695e-04 9.98155177e-01 8.63586611e-04]\n",
            " [4.43250686e-03 9.44609106e-01 5.09583205e-02]\n",
            " [8.86876762e-01 1.12421207e-01 7.02012621e-04]\n",
            " [9.98803854e-01 2.19337249e-04 9.76849347e-04]\n",
            " [1.27453441e-02 1.28638461e-01 8.58616173e-01]\n",
            " [9.87256050e-01 5.22162765e-04 1.22217862e-02]\n",
            " [9.99074459e-01 6.32147247e-04 2.93385907e-04]\n",
            " [9.99468744e-01 4.33173787e-04 9.80580298e-05]\n",
            " [7.39927404e-04 9.98710632e-01 5.49435150e-04]\n",
            " [3.60607915e-03 9.54456329e-01 4.19376530e-02]\n",
            " [6.27561510e-01 3.69292140e-01 3.14636552e-03]\n",
            " [2.48803175e-04 9.99425769e-01 3.25474655e-04]\n",
            " [9.39508438e-01 1.96246873e-03 5.85291609e-02]\n",
            " [4.11809266e-01 5.87770641e-01 4.20039665e-04]\n",
            " [9.98442113e-01 1.43334887e-03 1.24484650e-04]\n",
            " [9.99794304e-01 6.78979122e-05 1.37730225e-04]\n",
            " [3.96821415e-03 9.94506538e-01 1.52520800e-03]\n",
            " [9.76751208e-01 4.43325145e-03 1.88155603e-02]\n",
            " [1.23554058e-01 8.71282279e-01 5.16359461e-03]\n",
            " [9.84804273e-01 1.06294472e-02 4.56633652e-03]\n",
            " [9.82608795e-01 1.73097625e-02 8.13778097e-05]\n",
            " [5.37150979e-01 4.59284574e-01 3.56448442e-03]\n",
            " [4.17758934e-02 8.52013181e-04 9.57372069e-01]\n",
            " [8.13949294e-03 9.90934789e-01 9.25639004e-04]\n",
            " [9.99481976e-01 4.73076187e-04 4.48832761e-05]\n",
            " [6.63731422e-04 9.97122824e-01 2.21345550e-03]\n",
            " [9.99693036e-01 2.44200601e-05 2.82547961e-04]\n",
            " [9.97704685e-01 2.11650506e-03 1.78862989e-04]\n",
            " [9.95934248e-01 3.60517739e-03 4.60567098e-04]\n",
            " [4.01023090e-01 1.40679786e-02 5.84908962e-01]\n",
            " [9.99362290e-01 3.98605662e-05 5.97799022e-04]\n",
            " [9.95533705e-01 3.84516199e-03 6.21120911e-04]\n",
            " [9.98620152e-01 1.06806739e-03 3.11791984e-04]\n",
            " [9.58657503e-01 4.11078632e-02 2.34588006e-04]\n",
            " [9.91096377e-01 2.51516030e-04 8.65208358e-03]\n",
            " [5.96843893e-04 9.97519553e-01 1.88364286e-03]\n",
            " [9.99905944e-01 2.10647286e-05 7.29668318e-05]\n",
            " [3.18034478e-02 3.88992131e-02 9.29297328e-01]\n",
            " [9.04381514e-01 9.38903615e-02 1.72810105e-03]\n",
            " [9.50669944e-01 4.92646359e-02 6.53911338e-05]\n",
            " [1.00233406e-01 8.98698747e-01 1.06777926e-03]\n",
            " [9.98934329e-01 1.91298226e-04 8.74378311e-04]\n",
            " [9.98878658e-01 1.08274003e-03 3.86153770e-05]\n",
            " [9.49164093e-01 9.68745258e-03 4.11483943e-02]\n",
            " [9.95472968e-01 9.55970245e-05 4.43140976e-03]\n",
            " [9.97439504e-01 2.06944742e-03 4.91101120e-04]\n",
            " [9.99879837e-01 2.82470755e-05 9.18682126e-05]\n",
            " [9.98321712e-01 1.68076265e-04 1.51022803e-03]\n",
            " [9.28312719e-01 6.05414913e-04 7.10818172e-02]\n",
            " [6.09423332e-02 9.38923776e-01 1.33862603e-04]\n",
            " [6.44538738e-03 9.93117452e-01 4.37146693e-04]\n",
            " [9.29275215e-01 7.06707239e-02 5.40805231e-05]\n",
            " [3.65773169e-03 9.82787013e-01 1.35552445e-02]\n",
            " [2.06560525e-03 7.94543087e-01 2.03391314e-01]\n",
            " [9.99367297e-01 2.41708651e-04 3.91022826e-04]\n",
            " [9.98530149e-01 5.15774125e-04 9.54040617e-04]\n",
            " [7.11016776e-03 9.92524087e-01 3.65683081e-04]\n",
            " [9.99497771e-01 3.75955249e-04 1.26335581e-04]\n",
            " [9.99126136e-01 6.85557956e-04 1.88307691e-04]\n",
            " [5.02722740e-01 4.59286533e-02 4.51348603e-01]\n",
            " [5.34427585e-04 9.98755097e-01 7.10392371e-04]\n",
            " [9.94223416e-01 5.55329956e-03 2.23240568e-04]\n",
            " [9.78334188e-01 5.26849879e-03 1.63973868e-02]\n",
            " [9.96537685e-01 3.45321954e-03 9.17268881e-06]\n",
            " [1.75162713e-04 9.98310804e-01 1.51396589e-03]\n",
            " [2.95321504e-03 2.51552992e-04 9.96795237e-01]\n",
            " [8.92669195e-04 1.21070002e-03 9.97896552e-01]\n",
            " [9.99829531e-01 2.79043106e-05 1.42568664e-04]\n",
            " [9.60660577e-01 3.87086123e-02 6.30864000e-04]\n",
            " [5.73372701e-03 9.92231965e-01 2.03418569e-03]\n",
            " [8.34243372e-02 1.69996284e-02 8.99576068e-01]\n",
            " [4.48526740e-01 4.44529593e-01 1.06943704e-01]\n",
            " [9.01735961e-01 8.79410505e-02 1.03230001e-02]\n",
            " [9.95498598e-01 2.41280138e-03 2.08851788e-03]\n",
            " [9.94334459e-01 5.61441667e-03 5.11513499e-05]\n",
            " [8.27873945e-01 1.03568402e-03 1.71090484e-01]\n",
            " [9.98755336e-01 1.04844186e-03 1.96198147e-04]\n",
            " [9.71276581e-01 2.86174044e-02 1.06115389e-04]\n",
            " [9.99791920e-01 3.44715736e-05 1.73635824e-04]\n",
            " [2.71742363e-02 9.72310305e-01 5.15482505e-04]\n",
            " [4.75348294e-01 5.12975156e-01 1.16765397e-02]\n",
            " [7.19053860e-05 9.99692798e-01 2.35412808e-04]\n",
            " [9.74618971e-01 4.78573143e-04 2.49024685e-02]\n",
            " [9.97948468e-01 3.89503082e-04 1.66210090e-03]\n",
            " [9.72729623e-01 2.72292867e-02 4.11677356e-05]\n",
            " [9.99786437e-01 1.28062064e-04 8.55382823e-05]\n",
            " [9.19050753e-01 8.06934163e-02 2.55826104e-04]\n",
            " [9.98893678e-01 7.83218493e-05 1.02796033e-03]\n",
            " [6.04547001e-03 9.93720889e-01 2.33621642e-04]\n",
            " [1.12586059e-02 3.96587580e-01 5.92153788e-01]\n",
            " [9.91396368e-01 2.31138314e-03 6.29216805e-03]\n",
            " [7.82675401e-04 9.99004781e-01 2.12534607e-04]\n",
            " [9.99848247e-01 2.51830752e-05 1.26560917e-04]\n",
            " [9.97324467e-01 1.55570533e-03 1.11988245e-03]\n",
            " [9.99257505e-01 3.80863275e-05 7.04344537e-04]\n",
            " [9.98722732e-01 3.27486487e-05 1.24444743e-03]\n",
            " [8.08427632e-01 1.90837175e-01 7.35224690e-04]\n",
            " [9.96461928e-01 3.45363398e-03 8.44752722e-05]\n",
            " [9.95122254e-01 4.86408640e-03 1.36113031e-05]\n",
            " [1.82080157e-02 9.80731785e-01 1.06010784e-03]\n",
            " [9.99160409e-01 7.37903232e-04 1.01664038e-04]\n",
            " [9.99859333e-01 5.80924570e-05 8.26189571e-05]\n",
            " [9.36335087e-01 6.04997799e-02 3.16523411e-03]\n",
            " [9.87192273e-01 1.27431843e-02 6.46433618e-05]\n",
            " [9.67989206e-01 3.19487303e-02 6.20849678e-05]\n",
            " [9.89602506e-01 7.84434844e-03 2.55312864e-03]\n",
            " [9.99877930e-01 2.42528604e-05 9.79069519e-05]\n",
            " [9.99069154e-01 5.78391948e-04 3.52581177e-04]\n",
            " [9.93938565e-01 6.04470167e-03 1.66839964e-05]\n",
            " [9.90021288e-01 9.96168237e-03 1.69781488e-05]\n",
            " [1.23867369e-03 9.97834742e-01 9.26618522e-04]\n",
            " [9.83286858e-01 2.19281806e-04 1.64938774e-02]\n",
            " [8.24570507e-02 9.03725207e-01 1.38177341e-02]\n",
            " [9.91491616e-01 8.44722800e-03 6.10721327e-05]\n",
            " [8.43232632e-01 1.41776651e-01 1.49907507e-02]\n",
            " [8.92295837e-01 7.21644312e-02 3.55397165e-02]\n",
            " [9.95835066e-01 3.91567172e-03 2.49354256e-04]\n",
            " [9.91677999e-01 8.15352052e-03 1.68401413e-04]\n",
            " [1.44598729e-04 9.96191502e-01 3.66387493e-03]\n",
            " [9.88014638e-01 1.16659123e-02 3.19407409e-04]\n",
            " [9.97818828e-01 2.42484879e-04 1.93864363e-03]\n",
            " [9.50197637e-01 4.94868308e-02 3.15577752e-04]\n",
            " [1.69740878e-02 9.17087734e-01 6.59382194e-02]\n",
            " [3.87895899e-03 9.27063882e-01 6.90571964e-02]\n",
            " [9.49594617e-01 5.87934686e-04 4.98173721e-02]\n",
            " [9.96476114e-01 3.49902106e-03 2.48805354e-05]\n",
            " [9.99150634e-01 3.65839165e-04 4.83536773e-04]\n",
            " [4.51173455e-01 5.45928478e-01 2.89816014e-03]\n",
            " [5.36081076e-01 4.62006897e-01 1.91206299e-03]\n",
            " [9.93887722e-01 1.00919686e-03 5.10313828e-03]\n",
            " [9.91973519e-01 8.00091960e-03 2.55385512e-05]\n",
            " [9.97157454e-01 2.74375780e-03 9.87500825e-05]\n",
            " [3.27352842e-04 4.66005318e-03 9.95012581e-01]\n",
            " [1.87523589e-01 8.29566678e-04 8.11646879e-01]\n",
            " [9.63431299e-01 3.63231935e-02 2.45566975e-04]\n",
            " [6.41811550e-01 2.47474879e-01 1.10713571e-01]\n",
            " [4.32499528e-01 4.98516142e-01 6.89843819e-02]\n",
            " [9.97753680e-01 1.33550283e-03 9.10903211e-04]\n",
            " [9.85779524e-01 1.42003018e-02 2.02461688e-05]\n",
            " [3.85240046e-03 7.94106245e-01 2.02041373e-01]\n",
            " [8.60423803e-01 1.07337080e-01 3.22391316e-02]\n",
            " [9.98918414e-01 1.04920473e-03 3.23382483e-05]\n",
            " [9.96585965e-01 3.19433585e-03 2.19719965e-04]\n",
            " [6.96124567e-04 9.86681223e-01 1.26227215e-02]\n",
            " [9.83207226e-01 1.66527964e-02 1.39913405e-04]\n",
            " [9.98591959e-01 1.23142294e-04 1.28488580e-03]\n",
            " [9.97243643e-01 2.74485839e-03 1.15177818e-05]\n",
            " [9.96793926e-01 1.44001946e-03 1.76597829e-03]\n",
            " [5.47197610e-02 1.42663586e-04 9.45137560e-01]]\n"
          ],
          "name": "stdout"
        }
      ]
    },
    {
      "metadata": {
        "id": "dPc6P5-GUtJg",
        "colab_type": "code",
        "colab": {
          "base_uri": "https://localhost:8080/",
          "height": 441
        },
        "outputId": "0d30dcad-8c2c-4732-d6fd-c9fd6c9e6e91"
      },
      "cell_type": "code",
      "source": [
        "# sess2=tf.Session()\n",
        "# sess2.run(tf.global_variables_initializer())\n",
        "# # saver=tf.train.Saver()"
      ],
      "execution_count": 117,
      "outputs": [
        {
          "output_type": "error",
          "ename": "RuntimeError",
          "evalue": "ignored",
          "traceback": [
            "\u001b[0;31m---------------------------------------------------------------------------\u001b[0m",
            "\u001b[0;31mRuntimeError\u001b[0m                              Traceback (most recent call last)",
            "\u001b[0;32m<ipython-input-117-b41facb67968>\u001b[0m in \u001b[0;36m<module>\u001b[0;34m()\u001b[0m\n\u001b[1;32m      1\u001b[0m \u001b[0;34m\u001b[0m\u001b[0m\n\u001b[0;32m----> 2\u001b[0;31m \u001b[0mpredictions2\u001b[0m \u001b[0;34m=\u001b[0m \u001b[0msess2\u001b[0m\u001b[0;34m.\u001b[0m\u001b[0mrun\u001b[0m\u001b[0;34m(\u001b[0m\u001b[0mX_test\u001b[0m\u001b[0;34m)\u001b[0m\u001b[0;34m\u001b[0m\u001b[0;34m\u001b[0m\u001b[0m\n\u001b[0m\u001b[1;32m      3\u001b[0m \u001b[0;31m# # saver=tf.train.Saver()\u001b[0m\u001b[0;34m\u001b[0m\u001b[0;34m\u001b[0m\u001b[0;34m\u001b[0m\u001b[0m\n",
            "\u001b[0;32m/usr/local/lib/python3.6/dist-packages/tensorflow/python/client/session.py\u001b[0m in \u001b[0;36mrun\u001b[0;34m(self, fetches, feed_dict, options, run_metadata)\u001b[0m\n\u001b[1;32m    927\u001b[0m     \u001b[0;32mtry\u001b[0m\u001b[0;34m:\u001b[0m\u001b[0;34m\u001b[0m\u001b[0;34m\u001b[0m\u001b[0m\n\u001b[1;32m    928\u001b[0m       result = self._run(None, fetches, feed_dict, options_ptr,\n\u001b[0;32m--> 929\u001b[0;31m                          run_metadata_ptr)\n\u001b[0m\u001b[1;32m    930\u001b[0m       \u001b[0;32mif\u001b[0m \u001b[0mrun_metadata\u001b[0m\u001b[0;34m:\u001b[0m\u001b[0;34m\u001b[0m\u001b[0;34m\u001b[0m\u001b[0m\n\u001b[1;32m    931\u001b[0m         \u001b[0mproto_data\u001b[0m \u001b[0;34m=\u001b[0m \u001b[0mtf_session\u001b[0m\u001b[0;34m.\u001b[0m\u001b[0mTF_GetBuffer\u001b[0m\u001b[0;34m(\u001b[0m\u001b[0mrun_metadata_ptr\u001b[0m\u001b[0;34m)\u001b[0m\u001b[0;34m\u001b[0m\u001b[0;34m\u001b[0m\u001b[0m\n",
            "\u001b[0;32m/usr/local/lib/python3.6/dist-packages/tensorflow/python/client/session.py\u001b[0m in \u001b[0;36m_run\u001b[0;34m(self, handle, fetches, feed_dict, options, run_metadata)\u001b[0m\n\u001b[1;32m   1073\u001b[0m     \u001b[0;31m# Check session.\u001b[0m\u001b[0;34m\u001b[0m\u001b[0;34m\u001b[0m\u001b[0;34m\u001b[0m\u001b[0m\n\u001b[1;32m   1074\u001b[0m     \u001b[0;32mif\u001b[0m \u001b[0mself\u001b[0m\u001b[0;34m.\u001b[0m\u001b[0m_closed\u001b[0m\u001b[0;34m:\u001b[0m\u001b[0;34m\u001b[0m\u001b[0;34m\u001b[0m\u001b[0m\n\u001b[0;32m-> 1075\u001b[0;31m       \u001b[0;32mraise\u001b[0m \u001b[0mRuntimeError\u001b[0m\u001b[0;34m(\u001b[0m\u001b[0;34m'Attempted to use a closed Session.'\u001b[0m\u001b[0;34m)\u001b[0m\u001b[0;34m\u001b[0m\u001b[0;34m\u001b[0m\u001b[0m\n\u001b[0m\u001b[1;32m   1076\u001b[0m     \u001b[0;32mif\u001b[0m \u001b[0mself\u001b[0m\u001b[0;34m.\u001b[0m\u001b[0mgraph\u001b[0m\u001b[0;34m.\u001b[0m\u001b[0mversion\u001b[0m \u001b[0;34m==\u001b[0m \u001b[0;36m0\u001b[0m\u001b[0;34m:\u001b[0m\u001b[0;34m\u001b[0m\u001b[0;34m\u001b[0m\u001b[0m\n\u001b[1;32m   1077\u001b[0m       raise RuntimeError('The Session graph is empty.  Add operations to the '\n",
            "\u001b[0;31mRuntimeError\u001b[0m: Attempted to use a closed Session."
          ]
        }
      ]
    },
    {
      "metadata": {
        "id": "PgEQgYwQUzgP",
        "colab_type": "code",
        "colab": {}
      },
      "cell_type": "code",
      "source": [
        ""
      ],
      "execution_count": 0,
      "outputs": []
    }
  ]
}